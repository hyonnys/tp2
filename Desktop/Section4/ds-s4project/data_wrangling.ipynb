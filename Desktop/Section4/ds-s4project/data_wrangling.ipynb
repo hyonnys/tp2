{
 "cells": [
  {
   "cell_type": "code",
   "execution_count": 1,
   "id": "c5f139d0",
   "metadata": {
    "scrolled": true
   },
   "outputs": [
    {
     "name": "stdout",
     "output_type": "stream",
     "text": [
      "Collecting lifelines\n",
      "  Downloading lifelines-0.27.7-py3-none-any.whl (409 kB)\n",
      "     -------------------------------------- 409.4/409.4 kB 8.7 MB/s eta 0:00:00\n",
      "Requirement already satisfied: matplotlib>=3.0 in c:\\users\\owner\\anaconda3\\lib\\site-packages (from lifelines) (3.7.0)\n",
      "Requirement already satisfied: numpy>=1.14.0 in c:\\users\\owner\\anaconda3\\lib\\site-packages (from lifelines) (1.23.5)\n",
      "Collecting autograd>=1.5\n",
      "  Downloading autograd-1.5-py3-none-any.whl (48 kB)\n",
      "     ---------------------------------------- 48.9/48.9 kB 2.4 MB/s eta 0:00:00\n",
      "Collecting autograd-gamma>=0.3\n",
      "  Downloading autograd-gamma-0.5.0.tar.gz (4.0 kB)\n",
      "  Preparing metadata (setup.py): started\n",
      "  Preparing metadata (setup.py): finished with status 'done'\n",
      "Requirement already satisfied: pandas>=1.0.0 in c:\\users\\owner\\anaconda3\\lib\\site-packages (from lifelines) (1.5.3)\n",
      "Requirement already satisfied: scipy>=1.2.0 in c:\\users\\owner\\anaconda3\\lib\\site-packages (from lifelines) (1.10.0)\n",
      "Collecting formulaic>=0.2.2\n",
      "  Downloading formulaic-0.6.1-py3-none-any.whl (82 kB)\n",
      "     ---------------------------------------- 82.3/82.3 kB 4.5 MB/s eta 0:00:00\n",
      "Requirement already satisfied: future>=0.15.2 in c:\\users\\owner\\anaconda3\\lib\\site-packages (from autograd>=1.5->lifelines) (0.18.3)\n",
      "Collecting interface-meta>=1.2.0\n",
      "  Downloading interface_meta-1.3.0-py3-none-any.whl (14 kB)\n",
      "Requirement already satisfied: typing-extensions>=4.2.0 in c:\\users\\owner\\anaconda3\\lib\\site-packages (from formulaic>=0.2.2->lifelines) (4.4.0)\n",
      "Collecting astor>=0.8\n",
      "  Downloading astor-0.8.1-py2.py3-none-any.whl (27 kB)\n",
      "Requirement already satisfied: wrapt>=1.0 in c:\\users\\owner\\anaconda3\\lib\\site-packages (from formulaic>=0.2.2->lifelines) (1.14.1)\n",
      "Requirement already satisfied: packaging>=20.0 in c:\\users\\owner\\anaconda3\\lib\\site-packages (from matplotlib>=3.0->lifelines) (22.0)\n",
      "Requirement already satisfied: fonttools>=4.22.0 in c:\\users\\owner\\anaconda3\\lib\\site-packages (from matplotlib>=3.0->lifelines) (4.25.0)\n",
      "Requirement already satisfied: python-dateutil>=2.7 in c:\\users\\owner\\anaconda3\\lib\\site-packages (from matplotlib>=3.0->lifelines) (2.8.2)\n",
      "Requirement already satisfied: pillow>=6.2.0 in c:\\users\\owner\\anaconda3\\lib\\site-packages (from matplotlib>=3.0->lifelines) (9.4.0)\n",
      "Requirement already satisfied: kiwisolver>=1.0.1 in c:\\users\\owner\\anaconda3\\lib\\site-packages (from matplotlib>=3.0->lifelines) (1.4.4)\n",
      "Requirement already satisfied: contourpy>=1.0.1 in c:\\users\\owner\\anaconda3\\lib\\site-packages (from matplotlib>=3.0->lifelines) (1.0.5)\n",
      "Requirement already satisfied: cycler>=0.10 in c:\\users\\owner\\anaconda3\\lib\\site-packages (from matplotlib>=3.0->lifelines) (0.11.0)\n",
      "Requirement already satisfied: pyparsing>=2.3.1 in c:\\users\\owner\\anaconda3\\lib\\site-packages (from matplotlib>=3.0->lifelines) (3.0.9)\n",
      "Requirement already satisfied: pytz>=2020.1 in c:\\users\\owner\\anaconda3\\lib\\site-packages (from pandas>=1.0.0->lifelines) (2022.7)\n",
      "Requirement already satisfied: six>=1.5 in c:\\users\\owner\\anaconda3\\lib\\site-packages (from python-dateutil>=2.7->matplotlib>=3.0->lifelines) (1.16.0)\n",
      "Building wheels for collected packages: autograd-gamma\n",
      "  Building wheel for autograd-gamma (setup.py): started\n",
      "  Building wheel for autograd-gamma (setup.py): finished with status 'done'\n",
      "  Created wheel for autograd-gamma: filename=autograd_gamma-0.5.0-py3-none-any.whl size=4049 sha256=28decffc1c46947c8a6c9983b4f1eb36105361ae04ec8545912d18a489cf0185\n",
      "  Stored in directory: c:\\users\\owner\\appdata\\local\\pip\\cache\\wheels\\e4\\30\\15\\a77aac970f4acc37b9bb9c7f56e73c7c85087f15ff0fb4720f\n",
      "Successfully built autograd-gamma\n",
      "Installing collected packages: interface-meta, autograd, astor, autograd-gamma, formulaic, lifelines\n",
      "Successfully installed astor-0.8.1 autograd-1.5 autograd-gamma-0.5.0 formulaic-0.6.1 interface-meta-1.3.0 lifelines-0.27.7\n",
      "Requirement already satisfied: pandas in c:\\users\\owner\\anaconda3\\lib\\site-packages (1.5.3)\n",
      "Requirement already satisfied: python-dateutil>=2.8.1 in c:\\users\\owner\\anaconda3\\lib\\site-packages (from pandas) (2.8.2)\n",
      "Requirement already satisfied: pytz>=2020.1 in c:\\users\\owner\\anaconda3\\lib\\site-packages (from pandas) (2022.7)\n",
      "Requirement already satisfied: numpy>=1.21.0 in c:\\users\\owner\\anaconda3\\lib\\site-packages (from pandas) (1.23.5)\n",
      "Requirement already satisfied: six>=1.5 in c:\\users\\owner\\anaconda3\\lib\\site-packages (from python-dateutil>=2.8.1->pandas) (1.16.0)\n",
      "Requirement already satisfied: numpy in c:\\users\\owner\\anaconda3\\lib\\site-packages (1.23.5)\n"
     ]
    }
   ],
   "source": [
    "!pip install lifelines\n",
    "!pip install pandas\n",
    "!pip install numpy"
   ]
  },
  {
   "cell_type": "code",
   "execution_count": 2,
   "id": "4b827ee4",
   "metadata": {},
   "outputs": [],
   "source": [
    "import pandas as pd\n",
    "import numpy as np\n",
    "from lifelines import KaplanMeierFitter, CoxPHFitter\n",
    "import scipy.stats as stats\n",
    "from scipy.stats import chi2_contingency, f_oneway, kruskal\n",
    "from statsmodels.stats.outliers_influence import variance_inflation_factor\n",
    "from sklearn.preprocessing import LabelEncoder, MinMaxScaler  "
   ]
  },
  {
   "cell_type": "code",
   "execution_count": 28,
   "id": "3f536e8c",
   "metadata": {},
   "outputs": [],
   "source": [
    "import seaborn as sns\n",
    "import matplotlib.pyplot as plt "
   ]
  },
  {
   "cell_type": "code",
   "execution_count": 281,
   "id": "4ceede99",
   "metadata": {},
   "outputs": [],
   "source": [
    "df = pd.read_csv('./waitlist_kidney_brazil.csv', encoding='latin-1')"
   ]
  },
  {
   "cell_type": "code",
   "execution_count": 282,
   "id": "722364c5",
   "metadata": {},
   "outputs": [
    {
     "data": {
      "text/html": [
       "<div>\n",
       "<style scoped>\n",
       "    .dataframe tbody tr th:only-of-type {\n",
       "        vertical-align: middle;\n",
       "    }\n",
       "\n",
       "    .dataframe tbody tr th {\n",
       "        vertical-align: top;\n",
       "    }\n",
       "\n",
       "    .dataframe thead th {\n",
       "        text-align: right;\n",
       "    }\n",
       "</style>\n",
       "<table border=\"1\" class=\"dataframe\">\n",
       "  <thead>\n",
       "    <tr style=\"text-align: right;\">\n",
       "      <th></th>\n",
       "      <th>Id</th>\n",
       "      <th>date</th>\n",
       "      <th>age_at_list_registration</th>\n",
       "      <th>age_cat</th>\n",
       "      <th>time_on_Dialysis</th>\n",
       "      <th>race</th>\n",
       "      <th>sex</th>\n",
       "      <th>underline_disease</th>\n",
       "      <th>diabetes</th>\n",
       "      <th>Blood_type</th>\n",
       "      <th>...</th>\n",
       "      <th>Time_death</th>\n",
       "      <th>Transplant</th>\n",
       "      <th>Transplant_Y_N</th>\n",
       "      <th>X36MthsTx</th>\n",
       "      <th>Time_Tx</th>\n",
       "      <th>priorization</th>\n",
       "      <th>removed_list</th>\n",
       "      <th>razon_removed</th>\n",
       "      <th>time</th>\n",
       "      <th>event</th>\n",
       "    </tr>\n",
       "  </thead>\n",
       "  <tbody>\n",
       "    <tr>\n",
       "      <th>0</th>\n",
       "      <td>4</td>\n",
       "      <td>2017-06-29</td>\n",
       "      <td>67</td>\n",
       "      <td>Maior.60</td>\n",
       "      <td>1.0</td>\n",
       "      <td>Branca</td>\n",
       "      <td>M</td>\n",
       "      <td>Outras</td>\n",
       "      <td>1</td>\n",
       "      <td>A</td>\n",
       "      <td>...</td>\n",
       "      <td>13</td>\n",
       "      <td>Não</td>\n",
       "      <td>Não</td>\n",
       "      <td>0</td>\n",
       "      <td>13.07</td>\n",
       "      <td>Não</td>\n",
       "      <td>Não</td>\n",
       "      <td>NaN</td>\n",
       "      <td>392</td>\n",
       "      <td>0</td>\n",
       "    </tr>\n",
       "    <tr>\n",
       "      <th>1</th>\n",
       "      <td>5</td>\n",
       "      <td>2008-11-03</td>\n",
       "      <td>58</td>\n",
       "      <td>18.a.60</td>\n",
       "      <td>4.0</td>\n",
       "      <td>Branca</td>\n",
       "      <td>M</td>\n",
       "      <td>Diabetes</td>\n",
       "      <td>0</td>\n",
       "      <td>A</td>\n",
       "      <td>...</td>\n",
       "      <td>69</td>\n",
       "      <td>Óbito Lista</td>\n",
       "      <td>Não</td>\n",
       "      <td>0</td>\n",
       "      <td>68.87</td>\n",
       "      <td>Não</td>\n",
       "      <td>Não</td>\n",
       "      <td>NaN</td>\n",
       "      <td>2066</td>\n",
       "      <td>2</td>\n",
       "    </tr>\n",
       "    <tr>\n",
       "      <th>2</th>\n",
       "      <td>6</td>\n",
       "      <td>2010-07-13</td>\n",
       "      <td>51</td>\n",
       "      <td>18.a.60</td>\n",
       "      <td>2.0</td>\n",
       "      <td>Branca</td>\n",
       "      <td>M</td>\n",
       "      <td>HAS</td>\n",
       "      <td>1</td>\n",
       "      <td>O</td>\n",
       "      <td>...</td>\n",
       "      <td>98</td>\n",
       "      <td>Não</td>\n",
       "      <td>Não</td>\n",
       "      <td>0</td>\n",
       "      <td>12.17</td>\n",
       "      <td>Não</td>\n",
       "      <td>Sim</td>\n",
       "      <td>Removido (suspenso &gt; 365 dias)</td>\n",
       "      <td>365</td>\n",
       "      <td>3</td>\n",
       "    </tr>\n",
       "    <tr>\n",
       "      <th>3</th>\n",
       "      <td>7</td>\n",
       "      <td>2011-10-03</td>\n",
       "      <td>52</td>\n",
       "      <td>18.a.60</td>\n",
       "      <td>17.0</td>\n",
       "      <td>Branca</td>\n",
       "      <td>M</td>\n",
       "      <td>Diabetes</td>\n",
       "      <td>0</td>\n",
       "      <td>O</td>\n",
       "      <td>...</td>\n",
       "      <td>83</td>\n",
       "      <td>Não</td>\n",
       "      <td>Não</td>\n",
       "      <td>0</td>\n",
       "      <td>12.17</td>\n",
       "      <td>Não</td>\n",
       "      <td>Sim</td>\n",
       "      <td>Removido (suspenso &gt; 365 dias)</td>\n",
       "      <td>365</td>\n",
       "      <td>3</td>\n",
       "    </tr>\n",
       "    <tr>\n",
       "      <th>4</th>\n",
       "      <td>8</td>\n",
       "      <td>2006-07-05</td>\n",
       "      <td>67</td>\n",
       "      <td>Maior.60</td>\n",
       "      <td>68.0</td>\n",
       "      <td>Parda</td>\n",
       "      <td>M</td>\n",
       "      <td>HAS</td>\n",
       "      <td>1</td>\n",
       "      <td>A</td>\n",
       "      <td>...</td>\n",
       "      <td>6</td>\n",
       "      <td>Óbito Lista</td>\n",
       "      <td>Não</td>\n",
       "      <td>0</td>\n",
       "      <td>6.47</td>\n",
       "      <td>Não</td>\n",
       "      <td>Não</td>\n",
       "      <td>NaN</td>\n",
       "      <td>194</td>\n",
       "      <td>2</td>\n",
       "    </tr>\n",
       "  </tbody>\n",
       "</table>\n",
       "<p>5 rows × 53 columns</p>\n",
       "</div>"
      ],
      "text/plain": [
       "   Id        date  age_at_list_registration   age_cat  time_on_Dialysis  \\\n",
       "0   4  2017-06-29                        67  Maior.60               1.0   \n",
       "1   5  2008-11-03                        58   18.a.60               4.0   \n",
       "2   6  2010-07-13                        51   18.a.60               2.0   \n",
       "3   7  2011-10-03                        52   18.a.60              17.0   \n",
       "4   8  2006-07-05                        67  Maior.60              68.0   \n",
       "\n",
       "     race sex underline_disease  diabetes Blood_type  ...  Time_death  \\\n",
       "0  Branca   M            Outras         1          A  ...          13   \n",
       "1  Branca   M          Diabetes         0          A  ...          69   \n",
       "2  Branca   M               HAS         1          O  ...          98   \n",
       "3  Branca   M          Diabetes         0          O  ...          83   \n",
       "4   Parda   M               HAS         1          A  ...           6   \n",
       "\n",
       "    Transplant  Transplant_Y_N X36MthsTx  Time_Tx priorization  removed_list  \\\n",
       "0          Não             Não         0    13.07          Não           Não   \n",
       "1  Óbito Lista             Não         0    68.87          Não           Não   \n",
       "2          Não             Não         0    12.17          Não           Sim   \n",
       "3          Não             Não         0    12.17          Não           Sim   \n",
       "4  Óbito Lista             Não         0     6.47          Não           Não   \n",
       "\n",
       "                    razon_removed  time  event  \n",
       "0                             NaN   392      0  \n",
       "1                             NaN  2066      2  \n",
       "2  Removido (suspenso > 365 dias)   365      3  \n",
       "3  Removido (suspenso > 365 dias)   365      3  \n",
       "4                             NaN   194      2  \n",
       "\n",
       "[5 rows x 53 columns]"
      ]
     },
     "execution_count": 282,
     "metadata": {},
     "output_type": "execute_result"
    }
   ],
   "source": [
    "df.head()"
   ]
  },
  {
   "cell_type": "code",
   "execution_count": 283,
   "id": "b7156f2e",
   "metadata": {},
   "outputs": [],
   "source": [
    "df.replace(to_replace='Não', value='No', inplace=True)\n",
    "df.replace(to_replace='Sim', value='Yes', inplace=True)\n",
    "df.rename(columns={'anti.HBc':'anti_HBc', 'anti.HCV':'anti_HCV'}, inplace=True)"
   ]
  },
  {
   "cell_type": "code",
   "execution_count": 284,
   "id": "96a56a62",
   "metadata": {},
   "outputs": [
    {
     "name": "stdout",
     "output_type": "stream",
     "text": [
      "<class 'pandas.core.frame.DataFrame'>\n",
      "RangeIndex: 48153 entries, 0 to 48152\n",
      "Data columns (total 53 columns):\n",
      " #   Column                      Non-Null Count  Dtype  \n",
      "---  ------                      --------------  -----  \n",
      " 0   Id                          48153 non-null  int64  \n",
      " 1   date                        48153 non-null  object \n",
      " 2   age_at_list_registration    48153 non-null  int64  \n",
      " 3   age_cat                     48153 non-null  object \n",
      " 4   time_on_Dialysis            46817 non-null  float64\n",
      " 5   race                        48153 non-null  object \n",
      " 6   sex                         48153 non-null  object \n",
      " 7   underline_disease           48153 non-null  object \n",
      " 8   diabetes                    48153 non-null  int64  \n",
      " 9   Blood_type                  48153 non-null  object \n",
      " 10  number_transfusion          48153 non-null  int64  \n",
      " 11  gestation                   48153 non-null  object \n",
      " 12  number_gestation            19464 non-null  float64\n",
      " 13  prior_transplant            48153 non-null  object \n",
      " 14  number_prior_transplant     48153 non-null  int64  \n",
      " 15  subregion                   48153 non-null  object \n",
      " 16  cPRA                        48153 non-null  int64  \n",
      " 17  cPRA_cat                    48153 non-null  object \n",
      " 18  HLA_A1                      48153 non-null  int64  \n",
      " 19  HLA_A2                      48153 non-null  int64  \n",
      " 20  HLA_B1                      48153 non-null  int64  \n",
      " 21  HLA_B2                      48153 non-null  int64  \n",
      " 22  HLA_DR1                     48153 non-null  int64  \n",
      " 23  HLA_DR2                     48153 non-null  int64  \n",
      " 24  DR_00                       48153 non-null  object \n",
      " 25  B_00                        48153 non-null  object \n",
      " 26  A_00                        48153 non-null  object \n",
      " 27  calculated_frequency_DR.f1  48153 non-null  float64\n",
      " 28  calculated_frequency_DR.f2  48153 non-null  float64\n",
      " 29  calculated_frequency_DR.f   48153 non-null  float64\n",
      " 30  calculated_frequency_B.f1   48153 non-null  float64\n",
      " 31  calculated_frequency_B.f2   48153 non-null  float64\n",
      " 32  calculated_frequency_B.f    48153 non-null  float64\n",
      " 33  calculated_frequency_A.f1   48153 non-null  float64\n",
      " 34  calculated_frequency_A.f2   48153 non-null  float64\n",
      " 35  calculated_frequency_A.f    48153 non-null  float64\n",
      " 36  chagas                      44141 non-null  object \n",
      " 37  anti_HBc                    48153 non-null  object \n",
      " 38  anti_HCV                    44141 non-null  object \n",
      " 39  agHBs                       44141 non-null  object \n",
      " 40  patient_still_on_list       48153 non-null  object \n",
      " 41  date_acutal                 48153 non-null  int64  \n",
      " 42  death                       48153 non-null  object \n",
      " 43  Time_death                  48153 non-null  int64  \n",
      " 44  Transplant                  48153 non-null  object \n",
      " 45  Transplant_Y_N              48153 non-null  object \n",
      " 46  X36MthsTx                   48153 non-null  int64  \n",
      " 47  Time_Tx                     48153 non-null  float64\n",
      " 48  priorization                48153 non-null  object \n",
      " 49  removed_list                48153 non-null  object \n",
      " 50  razon_removed               15295 non-null  object \n",
      " 51  time                        48153 non-null  int64  \n",
      " 52  event                       48153 non-null  int64  \n",
      "dtypes: float64(12), int64(17), object(24)\n",
      "memory usage: 19.5+ MB\n"
     ]
    }
   ],
   "source": [
    "df.info()"
   ]
  },
  {
   "cell_type": "code",
   "execution_count": 285,
   "id": "41b9c3f4",
   "metadata": {},
   "outputs": [
    {
     "data": {
      "text/plain": [
       "0         No\n",
       "1         No\n",
       "2         No\n",
       "3        Yes\n",
       "4         No\n",
       "        ... \n",
       "48148     No\n",
       "48149    Yes\n",
       "48150     No\n",
       "48151     No\n",
       "48152     No\n",
       "Name: prior_transplant, Length: 48153, dtype: object"
      ]
     },
     "execution_count": 285,
     "metadata": {},
     "output_type": "execute_result"
    }
   ],
   "source": [
    "df['prior_transplant']"
   ]
  },
  {
   "cell_type": "code",
   "execution_count": 286,
   "id": "05f9f3c6",
   "metadata": {},
   "outputs": [
    {
     "name": "stdout",
     "output_type": "stream",
     "text": [
      "<class 'pandas.core.frame.DataFrame'>\n",
      "RangeIndex: 48153 entries, 0 to 48152\n",
      "Data columns (total 53 columns):\n",
      " #   Column                      Non-Null Count  Dtype         \n",
      "---  ------                      --------------  -----         \n",
      " 0   Id                          48153 non-null  int64         \n",
      " 1   date                        48153 non-null  datetime64[ns]\n",
      " 2   age_at_list_registration    48153 non-null  int64         \n",
      " 3   age_cat                     48153 non-null  object        \n",
      " 4   time_on_Dialysis            46817 non-null  float64       \n",
      " 5   race                        48153 non-null  object        \n",
      " 6   sex                         48153 non-null  object        \n",
      " 7   underline_disease           48153 non-null  object        \n",
      " 8   diabetes                    48153 non-null  int64         \n",
      " 9   Blood_type                  48153 non-null  object        \n",
      " 10  number_transfusion          48153 non-null  int64         \n",
      " 11  gestation                   48153 non-null  object        \n",
      " 12  number_gestation            19464 non-null  float64       \n",
      " 13  prior_transplant            48153 non-null  object        \n",
      " 14  number_prior_transplant     48153 non-null  int64         \n",
      " 15  subregion                   48153 non-null  object        \n",
      " 16  cPRA                        48153 non-null  int64         \n",
      " 17  cPRA_cat                    48153 non-null  object        \n",
      " 18  HLA_A1                      48153 non-null  int64         \n",
      " 19  HLA_A2                      48153 non-null  int64         \n",
      " 20  HLA_B1                      48153 non-null  int64         \n",
      " 21  HLA_B2                      48153 non-null  int64         \n",
      " 22  HLA_DR1                     48153 non-null  int64         \n",
      " 23  HLA_DR2                     48153 non-null  int64         \n",
      " 24  DR_00                       48153 non-null  object        \n",
      " 25  B_00                        48153 non-null  object        \n",
      " 26  A_00                        48153 non-null  object        \n",
      " 27  calculated_frequency_DR.f1  48153 non-null  float64       \n",
      " 28  calculated_frequency_DR.f2  48153 non-null  float64       \n",
      " 29  calculated_frequency_DR.f   48153 non-null  float64       \n",
      " 30  calculated_frequency_B.f1   48153 non-null  float64       \n",
      " 31  calculated_frequency_B.f2   48153 non-null  float64       \n",
      " 32  calculated_frequency_B.f    48153 non-null  float64       \n",
      " 33  calculated_frequency_A.f1   48153 non-null  float64       \n",
      " 34  calculated_frequency_A.f2   48153 non-null  float64       \n",
      " 35  calculated_frequency_A.f    48153 non-null  float64       \n",
      " 36  chagas                      44141 non-null  object        \n",
      " 37  anti_HBc                    48153 non-null  object        \n",
      " 38  anti_HCV                    44141 non-null  object        \n",
      " 39  agHBs                       44141 non-null  object        \n",
      " 40  patient_still_on_list       48153 non-null  object        \n",
      " 41  date_acutal                 48153 non-null  int64         \n",
      " 42  death                       48153 non-null  object        \n",
      " 43  Time_death                  48153 non-null  int64         \n",
      " 44  Transplant                  48153 non-null  object        \n",
      " 45  Transplant_Y_N              48153 non-null  object        \n",
      " 46  X36MthsTx                   48153 non-null  int64         \n",
      " 47  Time_Tx                     48153 non-null  float64       \n",
      " 48  priorization                48153 non-null  object        \n",
      " 49  removed_list                48153 non-null  object        \n",
      " 50  razon_removed               15295 non-null  object        \n",
      " 51  time                        48153 non-null  int64         \n",
      " 52  event                       48153 non-null  int64         \n",
      "dtypes: datetime64[ns](1), float64(12), int64(17), object(23)\n",
      "memory usage: 19.5+ MB\n"
     ]
    }
   ],
   "source": [
    "df['date']=pd.to_datetime(df['date']) # string to datetime format\n",
    "df.info()"
   ]
  },
  {
   "cell_type": "code",
   "execution_count": 287,
   "id": "6e2f4549",
   "metadata": {},
   "outputs": [
    {
     "data": {
      "text/plain": [
       "0       2017-06-29\n",
       "1       2008-11-03\n",
       "2       2010-07-13\n",
       "3       2011-10-03\n",
       "4       2006-07-05\n",
       "           ...    \n",
       "48148   2004-12-29\n",
       "48149   2004-05-25\n",
       "48150   2009-02-11\n",
       "48151   2017-11-16\n",
       "48152   2015-05-06\n",
       "Name: date, Length: 48153, dtype: datetime64[ns]"
      ]
     },
     "execution_count": 287,
     "metadata": {},
     "output_type": "execute_result"
    }
   ],
   "source": [
    "df['date']"
   ]
  },
  {
   "cell_type": "code",
   "execution_count": 288,
   "id": "ff5d7b34",
   "metadata": {},
   "outputs": [
    {
     "data": {
      "text/plain": [
       "0"
      ]
     },
     "execution_count": 288,
     "metadata": {},
     "output_type": "execute_result"
    }
   ],
   "source": [
    "df.duplicated().sum()"
   ]
  },
  {
   "cell_type": "code",
   "execution_count": 289,
   "id": "d322e0e0",
   "metadata": {},
   "outputs": [
    {
     "data": {
      "text/plain": [
       "Id                                0\n",
       "date                              0\n",
       "age_at_list_registration          0\n",
       "age_cat                           0\n",
       "time_on_Dialysis               1336\n",
       "race                              0\n",
       "sex                               0\n",
       "underline_disease                 0\n",
       "diabetes                          0\n",
       "Blood_type                        0\n",
       "number_transfusion                0\n",
       "gestation                         0\n",
       "number_gestation              28689\n",
       "prior_transplant                  0\n",
       "number_prior_transplant           0\n",
       "subregion                         0\n",
       "cPRA                              0\n",
       "cPRA_cat                          0\n",
       "HLA_A1                            0\n",
       "HLA_A2                            0\n",
       "HLA_B1                            0\n",
       "HLA_B2                            0\n",
       "HLA_DR1                           0\n",
       "HLA_DR2                           0\n",
       "DR_00                             0\n",
       "B_00                              0\n",
       "A_00                              0\n",
       "calculated_frequency_DR.f1        0\n",
       "calculated_frequency_DR.f2        0\n",
       "calculated_frequency_DR.f         0\n",
       "calculated_frequency_B.f1         0\n",
       "calculated_frequency_B.f2         0\n",
       "calculated_frequency_B.f          0\n",
       "calculated_frequency_A.f1         0\n",
       "calculated_frequency_A.f2         0\n",
       "calculated_frequency_A.f          0\n",
       "chagas                         4012\n",
       "anti_HBc                          0\n",
       "anti_HCV                       4012\n",
       "agHBs                          4012\n",
       "patient_still_on_list             0\n",
       "date_acutal                       0\n",
       "death                             0\n",
       "Time_death                        0\n",
       "Transplant                        0\n",
       "Transplant_Y_N                    0\n",
       "X36MthsTx                         0\n",
       "Time_Tx                           0\n",
       "priorization                      0\n",
       "removed_list                      0\n",
       "razon_removed                 32858\n",
       "time                              0\n",
       "event                             0\n",
       "dtype: int64"
      ]
     },
     "execution_count": 289,
     "metadata": {},
     "output_type": "execute_result"
    }
   ],
   "source": [
    "df.isna().sum()"
   ]
  },
  {
   "cell_type": "code",
   "execution_count": 290,
   "id": "aecbd1a2",
   "metadata": {},
   "outputs": [
    {
     "data": {
      "text/plain": [
       "Id                             0.000000\n",
       "date                           0.000000\n",
       "age_at_list_registration       0.000000\n",
       "age_cat                        0.000000\n",
       "time_on_Dialysis               2.774490\n",
       "race                           0.000000\n",
       "sex                            0.000000\n",
       "underline_disease              0.000000\n",
       "diabetes                       0.000000\n",
       "Blood_type                     0.000000\n",
       "number_transfusion             0.000000\n",
       "gestation                      0.000000\n",
       "number_gestation              59.578842\n",
       "prior_transplant               0.000000\n",
       "number_prior_transplant        0.000000\n",
       "subregion                      0.000000\n",
       "cPRA                           0.000000\n",
       "cPRA_cat                       0.000000\n",
       "HLA_A1                         0.000000\n",
       "HLA_A2                         0.000000\n",
       "HLA_B1                         0.000000\n",
       "HLA_B2                         0.000000\n",
       "HLA_DR1                        0.000000\n",
       "HLA_DR2                        0.000000\n",
       "DR_00                          0.000000\n",
       "B_00                           0.000000\n",
       "A_00                           0.000000\n",
       "calculated_frequency_DR.f1     0.000000\n",
       "calculated_frequency_DR.f2     0.000000\n",
       "calculated_frequency_DR.f      0.000000\n",
       "calculated_frequency_B.f1      0.000000\n",
       "calculated_frequency_B.f2      0.000000\n",
       "calculated_frequency_B.f       0.000000\n",
       "calculated_frequency_A.f1      0.000000\n",
       "calculated_frequency_A.f2      0.000000\n",
       "calculated_frequency_A.f       0.000000\n",
       "chagas                         8.331776\n",
       "anti_HBc                       0.000000\n",
       "anti_HCV                       8.331776\n",
       "agHBs                          8.331776\n",
       "patient_still_on_list          0.000000\n",
       "date_acutal                    0.000000\n",
       "death                          0.000000\n",
       "Time_death                     0.000000\n",
       "Transplant                     0.000000\n",
       "Transplant_Y_N                 0.000000\n",
       "X36MthsTx                      0.000000\n",
       "Time_Tx                        0.000000\n",
       "priorization                   0.000000\n",
       "removed_list                   0.000000\n",
       "razon_removed                 68.236662\n",
       "time                           0.000000\n",
       "event                          0.000000\n",
       "dtype: float64"
      ]
     },
     "execution_count": 290,
     "metadata": {},
     "output_type": "execute_result"
    }
   ],
   "source": [
    "df.isna().sum()/len(df)*100"
   ]
  },
  {
   "cell_type": "code",
   "execution_count": 291,
   "id": "1018faa1",
   "metadata": {},
   "outputs": [],
   "source": [
    "df.drop(columns=['razon_removed'], inplace=True)"
   ]
  },
  {
   "cell_type": "code",
   "execution_count": 292,
   "id": "7ac432ea",
   "metadata": {},
   "outputs": [
    {
     "data": {
      "text/plain": [
       "28679"
      ]
     },
     "execution_count": 292,
     "metadata": {},
     "output_type": "execute_result"
    }
   ],
   "source": [
    "df[df['sex']=='M']['number_gestation'].isna().sum()"
   ]
  },
  {
   "cell_type": "code",
   "execution_count": 293,
   "id": "32e88f21",
   "metadata": {},
   "outputs": [
    {
     "data": {
      "text/plain": [
       "0"
      ]
     },
     "execution_count": 293,
     "metadata": {},
     "output_type": "execute_result"
    }
   ],
   "source": [
    "df['number_gestation']=np.where(df['number_gestation'].isna(), 0, df['number_gestation'])\n",
    "df['number_gestation'].isna().sum()"
   ]
  },
  {
   "cell_type": "code",
   "execution_count": 294,
   "id": "434262a2",
   "metadata": {},
   "outputs": [
    {
     "data": {
      "text/plain": [
       "array([  1.,   4.,   2.,  17.,  68.,  18.,  29.,   7.,  10.,  12.,  14.,\n",
       "       102.,   9.,  21.,   3.,  55.,  82.,   6.,   5.,  nan,  27.,  20.,\n",
       "         8.,   0.,  98.,  24.,  71.,  19.,  83.,  16.,  23.,  25.,  15.,\n",
       "        22.,  11.,  36.,  49., 101.,  78.,  46.,  30.,  57.,  63.,  43.,\n",
       "       180.,  34.,  28.,  31.,  13.,  74.,  52.,  32.,  41.,  73.,  35.,\n",
       "        72.,  39.,  65.,  88.,  56.,  92., 131.,  66.,  69., 158.,  40.,\n",
       "        26., 122.,  42.,  89.,  33.,  53.,  37.,  54., 111.,  45.,  62.,\n",
       "       110.,  59.,  51., 145., 147., 121.,  87.,  80., 100.,  47., 134.,\n",
       "        44.,  77.,  79.,  38.,  58., 173., 118., 108.,  81.,  70.,  48.,\n",
       "       165.,  90., 115.,  61.,  95.,  67., 106.,  50.,  86.,  75., 129.,\n",
       "       128.,  64.,  93.,  85.,  94.,  60., 104.,  84., 109., 126.,  91.,\n",
       "       105., 170., 143., 177., 138., 167., 142.,  76., 103., 130., 114.,\n",
       "       119., 113., 163., 124., 159., 135.,  99., 125., 176., 169., 146.,\n",
       "       120., 150., 144., 175., 117., 112., 127., 132.,  97., 139., 164.,\n",
       "        96., 152., 148., 107., 133., 178., 149., 160., 155., 153., 116.,\n",
       "       137., 141., 157., 179., 123., 166., 172., 161., 162., 136., 140.,\n",
       "       168., 151., 156., 154., 174., 171.])"
      ]
     },
     "execution_count": 294,
     "metadata": {},
     "output_type": "execute_result"
    }
   ],
   "source": [
    "df['time_on_Dialysis'].unique()"
   ]
  },
  {
   "cell_type": "code",
   "execution_count": 295,
   "id": "a3a396e1",
   "metadata": {},
   "outputs": [
    {
     "data": {
      "text/plain": [
       "array([  1.,   4.,   2.,  17.,  68.,  18.,  29.,   7.,  10.,  12.,  14.,\n",
       "       102.,   9.,  21.,   3.,  55.,  82.,   6.,   5.,  27.,  20.,   8.,\n",
       "        98.,  24.,  71.,  19.,  83.,  16.,  23.,  25.,  15.,  22.,  11.,\n",
       "        36.,  49., 101.,  78.,  46.,  30.,  57.,  63.,  43., 180.,  34.,\n",
       "        28.,  31.,  13.,  74.,  52.,  32.,  41.,  73.,  35.,  72.,  39.,\n",
       "        65.,  88.,  56.,  92., 131.,  66.,  69., 158.,  40.,  26., 122.,\n",
       "        42.,  89.,  33.,  53.,  37.,  54., 111.,  45.,  62., 110.,  59.,\n",
       "        51., 145., 147., 121.,  87.,  80., 100.,  47., 134.,  44.,  77.,\n",
       "        79.,  38.,  58., 173., 118., 108.,  81.,  70.,  48., 165.,  90.,\n",
       "       115.,  61.,  95.,  67., 106.,  50.,  86.,  75., 129., 128.,  64.,\n",
       "        93.,  85.,  94.,  60., 104.,  84., 109., 126.,  91., 105., 170.,\n",
       "       143., 177., 138., 167., 142.,  76., 103., 130., 114., 119., 113.,\n",
       "       163., 124., 159., 135.,  99., 125., 176., 169., 146., 120., 150.,\n",
       "       144., 175., 117., 112., 127., 132.,  97., 139., 164.,  96., 152.,\n",
       "       148., 107., 133., 178., 149., 160., 155., 153., 116., 137., 141.,\n",
       "       157., 179., 123., 166., 172., 161., 162., 136., 140., 168., 151.,\n",
       "       156., 154., 174., 171.])"
      ]
     },
     "execution_count": 295,
     "metadata": {},
     "output_type": "execute_result"
    }
   ],
   "source": [
    "df['time_on_Dialysis'] = np.where(df['time_on_Dialysis'].isna(), 1, df['time_on_Dialysis'])\n",
    "df['time_on_Dialysis'] = np.where(df['time_on_Dialysis']==0, 1, df['time_on_Dialysis'])\n",
    "df['time_on_Dialysis'].unique()"
   ]
  },
  {
   "cell_type": "code",
   "execution_count": 296,
   "id": "fb26b057",
   "metadata": {},
   "outputs": [
    {
     "data": {
      "image/png": "[encoded data removed]",
      "text/plain": [
       "<Figure size 640x480 with 1 Axes>"
      ]
     },
     "metadata": {},
     "output_type": "display_data"
    }
   ],
   "source": [
    "df['anti_HCV'].value_counts().plot(kind='pie', autopct='%1.1f%%');"
   ]
  },
  {
   "cell_type": "code",
   "execution_count": 297,
   "id": "8fd62c77",
   "metadata": {},
   "outputs": [],
   "source": [
    "df['anti_HCV'] = np.where(df['anti_HCV'].isna(), 'No', df['anti_HCV'])"
   ]
  },
  {
   "cell_type": "code",
   "execution_count": 298,
   "id": "267ed1ea",
   "metadata": {},
   "outputs": [
    {
     "data": {
      "image/png": "[encoded data removed]",
      "text/plain": [
       "<Figure size 640x480 with 1 Axes>"
      ]
     },
     "metadata": {},
     "output_type": "display_data"
    }
   ],
   "source": [
    "df['agHBs'].value_counts().plot(kind='pie', autopct='%1.1f%%');"
   ]
  },
  {
   "cell_type": "code",
   "execution_count": 299,
   "id": "c9d25d40",
   "metadata": {},
   "outputs": [
    {
     "data": {
      "image/png": "[encoded data removed]",
      "text/plain": [
       "<Figure size 640x480 with 1 Axes>"
      ]
     },
     "metadata": {},
     "output_type": "display_data"
    }
   ],
   "source": [
    "df['chagas'].value_counts().plot(kind='pie', autopct='%1.1f%%');"
   ]
  },
  {
   "cell_type": "code",
   "execution_count": 300,
   "id": "3058e123",
   "metadata": {},
   "outputs": [
    {
     "data": {
      "text/plain": [
       "Index(['Id', 'date', 'age_at_list_registration', 'age_cat', 'time_on_Dialysis',\n",
       "       'race', 'sex', 'underline_disease', 'diabetes', 'Blood_type',\n",
       "       'number_transfusion', 'gestation', 'number_gestation',\n",
       "       'prior_transplant', 'number_prior_transplant', 'subregion', 'cPRA',\n",
       "       'cPRA_cat', 'HLA_A1', 'HLA_A2', 'HLA_B1', 'HLA_B2', 'HLA_DR1',\n",
       "       'HLA_DR2', 'DR_00', 'B_00', 'A_00', 'calculated_frequency_DR.f1',\n",
       "       'calculated_frequency_DR.f2', 'calculated_frequency_DR.f',\n",
       "       'calculated_frequency_B.f1', 'calculated_frequency_B.f2',\n",
       "       'calculated_frequency_B.f', 'calculated_frequency_A.f1',\n",
       "       'calculated_frequency_A.f2', 'calculated_frequency_A.f', 'anti_HBc',\n",
       "       'anti_HCV', 'patient_still_on_list', 'date_acutal', 'death',\n",
       "       'Time_death', 'Transplant', 'Transplant_Y_N', 'X36MthsTx', 'Time_Tx',\n",
       "       'priorization', 'removed_list', 'time', 'event'],\n",
       "      dtype='object')"
      ]
     },
     "execution_count": 300,
     "metadata": {},
     "output_type": "execute_result"
    }
   ],
   "source": [
    "df.drop(columns=['agHBs', 'chagas'], inplace=True)\n",
    "df.columns"
   ]
  },
  {
   "cell_type": "code",
   "execution_count": 301,
   "id": "18352044",
   "metadata": {},
   "outputs": [
    {
     "data": {
      "text/plain": [
       "Id                            0\n",
       "date                          0\n",
       "age_at_list_registration      0\n",
       "age_cat                       0\n",
       "time_on_Dialysis              0\n",
       "race                          0\n",
       "sex                           0\n",
       "underline_disease             0\n",
       "diabetes                      0\n",
       "Blood_type                    0\n",
       "number_transfusion            0\n",
       "gestation                     0\n",
       "number_gestation              0\n",
       "prior_transplant              0\n",
       "number_prior_transplant       0\n",
       "subregion                     0\n",
       "cPRA                          0\n",
       "cPRA_cat                      0\n",
       "HLA_A1                        0\n",
       "HLA_A2                        0\n",
       "HLA_B1                        0\n",
       "HLA_B2                        0\n",
       "HLA_DR1                       0\n",
       "HLA_DR2                       0\n",
       "DR_00                         0\n",
       "B_00                          0\n",
       "A_00                          0\n",
       "calculated_frequency_DR.f1    0\n",
       "calculated_frequency_DR.f2    0\n",
       "calculated_frequency_DR.f     0\n",
       "calculated_frequency_B.f1     0\n",
       "calculated_frequency_B.f2     0\n",
       "calculated_frequency_B.f      0\n",
       "calculated_frequency_A.f1     0\n",
       "calculated_frequency_A.f2     0\n",
       "calculated_frequency_A.f      0\n",
       "anti_HBc                      0\n",
       "anti_HCV                      0\n",
       "patient_still_on_list         0\n",
       "date_acutal                   0\n",
       "death                         0\n",
       "Time_death                    0\n",
       "Transplant                    0\n",
       "Transplant_Y_N                0\n",
       "X36MthsTx                     0\n",
       "Time_Tx                       0\n",
       "priorization                  0\n",
       "removed_list                  0\n",
       "time                          0\n",
       "event                         0\n",
       "dtype: int64"
      ]
     },
     "execution_count": 301,
     "metadata": {},
     "output_type": "execute_result"
    }
   ],
   "source": [
    "df.isna().sum()"
   ]
  },
  {
   "cell_type": "code",
   "execution_count": 302,
   "id": "1956982f",
   "metadata": {},
   "outputs": [
    {
     "data": {
      "text/plain": [
       "0         0.0\n",
       "28144     0.0\n",
       "28145     0.0\n",
       "28146     0.0\n",
       "28147     0.0\n",
       "         ... \n",
       "31923    22.0\n",
       "44892    24.0\n",
       "26735    35.0\n",
       "28900    41.0\n",
       "3512     63.0\n",
       "Name: number_gestation, Length: 48153, dtype: float64"
      ]
     },
     "execution_count": 302,
     "metadata": {},
     "output_type": "execute_result"
    }
   ],
   "source": [
    "df['number_gestation'].sort_values()"
   ]
  },
  {
   "cell_type": "code",
   "execution_count": 303,
   "id": "e0df29fe",
   "metadata": {},
   "outputs": [
    {
     "data": {
      "text/plain": [
       "0         0.0\n",
       "28144     0.0\n",
       "28145     0.0\n",
       "28146     0.0\n",
       "28147     0.0\n",
       "         ... \n",
       "31923    22.0\n",
       "44892    24.0\n",
       "26735    35.0\n",
       "28900    41.0\n",
       "3512     42.0\n",
       "Name: number_gestation, Length: 48153, dtype: float64"
      ]
     },
     "execution_count": 303,
     "metadata": {},
     "output_type": "execute_result"
    }
   ],
   "source": [
    "df['number_gestation'] = np.where(df['number_gestation']==63.0, 42.0, df['number_gestation'])\n",
    "df['number_gestation'].sort_values()"
   ]
  },
  {
   "cell_type": "code",
   "execution_count": 304,
   "id": "9d1af097",
   "metadata": {},
   "outputs": [],
   "source": [
    "remove_list = []"
   ]
  },
  {
   "cell_type": "code",
   "execution_count": 305,
   "id": "355e9933",
   "metadata": {},
   "outputs": [
    {
     "data": {
      "image/png": "[encoded data removed]",
      "text/plain": [
       "<Figure size 640x480 with 1 Axes>"
      ]
     },
     "metadata": {},
     "output_type": "display_data"
    }
   ],
   "source": [
    "df['priorization'].value_counts().plot(kind='pie', autopct='%1.1f%%');"
   ]
  },
  {
   "cell_type": "code",
   "execution_count": 306,
   "id": "d0548359",
   "metadata": {},
   "outputs": [],
   "source": [
    "remove_list.append('priorization')"
   ]
  },
  {
   "cell_type": "code",
   "execution_count": 307,
   "id": "55f366fa",
   "metadata": {},
   "outputs": [
    {
     "data": {
      "text/plain": [
       "array([43307], dtype=int64)"
      ]
     },
     "execution_count": 307,
     "metadata": {},
     "output_type": "execute_result"
    }
   ],
   "source": [
    "df['date_acutal'].unique()"
   ]
  },
  {
   "cell_type": "code",
   "execution_count": 308,
   "id": "54118553",
   "metadata": {},
   "outputs": [],
   "source": [
    "remove_list.append('date_acutal')"
   ]
  },
  {
   "cell_type": "code",
   "execution_count": 309,
   "id": "628cae99",
   "metadata": {},
   "outputs": [
    {
     "data": {
      "text/plain": [
       "array([0, 1], dtype=int64)"
      ]
     },
     "execution_count": 309,
     "metadata": {},
     "output_type": "execute_result"
    }
   ],
   "source": [
    "df['X36MthsTx'].unique()"
   ]
  },
  {
   "cell_type": "code",
   "execution_count": 310,
   "id": "6b5686a5",
   "metadata": {},
   "outputs": [],
   "source": [
    "remove_list.append('X36MthsTx')"
   ]
  },
  {
   "cell_type": "code",
   "execution_count": 311,
   "id": "2d983e62",
   "metadata": {},
   "outputs": [
    {
     "data": {
      "text/plain": [
       "No     41983\n",
       "Yes     6170\n",
       "Name: prior_transplant, dtype: int64"
      ]
     },
     "execution_count": 311,
     "metadata": {},
     "output_type": "execute_result"
    }
   ],
   "source": [
    "df['prior_transplant'].value_counts()"
   ]
  },
  {
   "cell_type": "code",
   "execution_count": 312,
   "id": "a9f8648b",
   "metadata": {},
   "outputs": [
    {
     "data": {
      "text/plain": [
       "0    41983\n",
       "1     5428\n",
       "2      630\n",
       "3       94\n",
       "4       14\n",
       "5        4\n",
       "Name: number_prior_transplant, dtype: int64"
      ]
     },
     "execution_count": 312,
     "metadata": {},
     "output_type": "execute_result"
    }
   ],
   "source": [
    "df['number_prior_transplant'].value_counts() # less significant"
   ]
  },
  {
   "cell_type": "code",
   "execution_count": 313,
   "id": "96c18479",
   "metadata": {},
   "outputs": [],
   "source": [
    "remove_list.append('number_prior_transplant')"
   ]
  },
  {
   "cell_type": "code",
   "execution_count": 314,
   "id": "9d3af529",
   "metadata": {},
   "outputs": [
    {
     "data": {
      "image/png": "[encoded data removed]",
      "text/plain": [
       "<Figure size 640x480 with 1 Axes>"
      ]
     },
     "metadata": {},
     "output_type": "display_data"
    }
   ],
   "source": [
    "sns.kdeplot(data=df, x=df['time']); #scale metric=Days / higher range"
   ]
  },
  {
   "cell_type": "code",
   "execution_count": 315,
   "id": "f05634ce",
   "metadata": {},
   "outputs": [
    {
     "data": {
      "image/png": "[encoded data removed]",
      "text/plain": [
       "<Figure size 640x480 with 1 Axes>"
      ]
     },
     "metadata": {},
     "output_type": "display_data"
    }
   ],
   "source": [
    "sns.kdeplot(data=df, x=df['Time_Tx']); # scale metric=Months / lower range"
   ]
  },
  {
   "cell_type": "code",
   "execution_count": 316,
   "id": "706faf46",
   "metadata": {},
   "outputs": [],
   "source": [
    "remove_list.append('time')"
   ]
  },
  {
   "cell_type": "code",
   "execution_count": 317,
   "id": "208174fd",
   "metadata": {},
   "outputs": [
    {
     "data": {
      "text/plain": [
       "No             25289\n",
       "Yes            13732\n",
       "Óbito Lista     9132\n",
       "Name: Transplant, dtype: int64"
      ]
     },
     "execution_count": 317,
     "metadata": {},
     "output_type": "execute_result"
    }
   ],
   "source": [
    "df['Transplant'].value_counts() # Óbito Lista = Death List"
   ]
  },
  {
   "cell_type": "code",
   "execution_count": 318,
   "id": "b4b06676",
   "metadata": {},
   "outputs": [
    {
     "data": {
      "text/plain": [
       "array(['No', 'Death_List', 'Yes'], dtype=object)"
      ]
     },
     "execution_count": 318,
     "metadata": {},
     "output_type": "execute_result"
    }
   ],
   "source": [
    "df.replace(to_replace='Óbito Lista', value='Death_List', inplace=True)\n",
    "df['Transplant'].unique()"
   ]
  },
  {
   "cell_type": "code",
   "execution_count": 319,
   "id": "8afa7d95",
   "metadata": {},
   "outputs": [
    {
     "data": {
      "image/png": "[encoded data removed]",
      "text/plain": [
       "<Figure size 640x480 with 1 Axes>"
      ]
     },
     "metadata": {},
     "output_type": "display_data"
    }
   ],
   "source": [
    "df['Transplant'].value_counts().plot(kind='pie', autopct='%1.1f%%');"
   ]
  },
  {
   "cell_type": "code",
   "execution_count": 320,
   "id": "53fcb769",
   "metadata": {},
   "outputs": [
    {
     "data": {
      "image/png": "[encoded data removed]",
      "text/plain": [
       "<Figure size 640x480 with 1 Axes>"
      ]
     },
     "metadata": {},
     "output_type": "display_data"
    }
   ],
   "source": [
    "df['death'].value_counts().plot(kind='pie', autopct='%1.1f%%');"
   ]
  },
  {
   "cell_type": "code",
   "execution_count": 321,
   "id": "6da55a08",
   "metadata": {},
   "outputs": [
    {
     "data": {
      "image/png": "[encoded data removed]",
      "text/plain": [
       "<Figure size 640x480 with 1 Axes>"
      ]
     },
     "metadata": {},
     "output_type": "display_data"
    }
   ],
   "source": [
    "df['Transplant_Y_N'].value_counts().plot(kind='pie', autopct='%1.1f%%');"
   ]
  },
  {
   "cell_type": "code",
   "execution_count": 322,
   "id": "5df8572f",
   "metadata": {},
   "outputs": [],
   "source": [
    "remove_list.append('Transplant')"
   ]
  },
  {
   "cell_type": "code",
   "execution_count": 323,
   "id": "1d78810b",
   "metadata": {},
   "outputs": [
    {
     "data": {
      "text/plain": [
       "array(['No', 'Yes'], dtype=object)"
      ]
     },
     "execution_count": 323,
     "metadata": {},
     "output_type": "execute_result"
    }
   ],
   "source": [
    "df['gestation'].unique()"
   ]
  },
  {
   "cell_type": "code",
   "execution_count": 324,
   "id": "ce290933",
   "metadata": {},
   "outputs": [
    {
     "data": {
      "text/plain": [
       "array([ 0.,  4.,  3.,  2., 12.,  5.,  1.,  7.,  6., 10., 14., 11.,  8.,\n",
       "        9., 13., 42., 17., 18., 15., 35., 41., 16., 22., 20., 24.])"
      ]
     },
     "execution_count": 324,
     "metadata": {},
     "output_type": "execute_result"
    }
   ],
   "source": [
    "df['number_gestation'].unique()"
   ]
  },
  {
   "cell_type": "code",
   "execution_count": 325,
   "id": "c984f965",
   "metadata": {},
   "outputs": [],
   "source": [
    "remove_list.append('number_gestation')"
   ]
  },
  {
   "cell_type": "code",
   "execution_count": 326,
   "id": "de7fa80c",
   "metadata": {},
   "outputs": [
    {
     "data": {
      "image/png": "[encoded data removed]",
      "text/plain": [
       "<Figure size 640x480 with 1 Axes>"
      ]
     },
     "metadata": {},
     "output_type": "display_data"
    }
   ],
   "source": [
    "df['removed_list'].value_counts().plot(kind='pie', autopct='%1.1f%%');"
   ]
  },
  {
   "cell_type": "code",
   "execution_count": 327,
   "id": "d75e6432",
   "metadata": {},
   "outputs": [
    {
     "data": {
      "image/png": "[encoded data removed]",
      "text/plain": [
       "<Figure size 640x480 with 1 Axes>"
      ]
     },
     "metadata": {},
     "output_type": "display_data"
    }
   ],
   "source": [
    "df['patient_still_on_list'].value_counts().plot(kind='pie', autopct='%1.1f%%');"
   ]
  },
  {
   "cell_type": "code",
   "execution_count": 328,
   "id": "e1e8b32d",
   "metadata": {},
   "outputs": [
    {
     "data": {
      "image/png": "[encoded data removed]",
      "text/plain": [
       "<Figure size 640x480 with 1 Axes>"
      ]
     },
     "metadata": {},
     "output_type": "display_data"
    }
   ],
   "source": [
    "sns.countplot(x=df['patient_still_on_list'], hue=df['removed_list']);"
   ]
  },
  {
   "cell_type": "code",
   "execution_count": 329,
   "id": "3ea0e5ff",
   "metadata": {},
   "outputs": [],
   "source": [
    "remove_list.append('patient_still_on_list')"
   ]
  },
  {
   "cell_type": "code",
   "execution_count": 330,
   "id": "dcbe632b",
   "metadata": {},
   "outputs": [],
   "source": [
    "# removes local(brazil) features\n",
    "hla_frequencies= ['calculated_frequency_DR.f1', 'calculated_frequency_DR.f2','calculated_frequency_DR.f', 'calculated_frequency_B.f1',\\\n",
    "                  'calculated_frequency_B.f2','calculated_frequency_B.f','calculated_frequency_A.f1','calculated_frequency_A.f2',\\\n",
    "                  'calculated_frequency_A.f']\n",
    "remove_list.extend(hla_frequencies)"
   ]
  },
  {
   "cell_type": "code",
   "execution_count": 331,
   "id": "b2d23d93",
   "metadata": {},
   "outputs": [],
   "source": [
    "# removes local(brazil) features\n",
    "remove_list.append('race')"
   ]
  },
  {
   "cell_type": "code",
   "execution_count": 332,
   "id": "ca1be40e",
   "metadata": {},
   "outputs": [],
   "source": [
    "# removes local(brazil) features\n",
    "remove_list.append('subregion')"
   ]
  },
  {
   "cell_type": "code",
   "execution_count": 333,
   "id": "ecba32d8",
   "metadata": {},
   "outputs": [
    {
     "data": {
      "text/plain": [
       "18.a.60     34752\n",
       "Maior.60    11775\n",
       "Menor.18     1626\n",
       "Name: age_cat, dtype: int64"
      ]
     },
     "execution_count": 333,
     "metadata": {},
     "output_type": "execute_result"
    }
   ],
   "source": [
    "df['age_cat'].value_counts()"
   ]
  },
  {
   "cell_type": "code",
   "execution_count": 334,
   "id": "8bd5cd43",
   "metadata": {},
   "outputs": [],
   "source": [
    "df['age_cat'].replace(to_replace= '18.a.60' , value= 'From18to60', inplace=True)\n",
    "df['age_cat'].replace(to_replace= 'Maior.60' , value= 'Over60', inplace=True)\n",
    "df['age_cat'].replace(to_replace= 'Menor.18' , value= 'Below18', inplace=True)"
   ]
  },
  {
   "cell_type": "code",
   "execution_count": 335,
   "id": "1e64aa15",
   "metadata": {},
   "outputs": [
    {
     "data": {
      "image/png": "[encoded data removed]",
      "text/plain": [
       "<Figure size 640x480 with 1 Axes>"
      ]
     },
     "metadata": {},
     "output_type": "display_data"
    }
   ],
   "source": [
    "sns.barplot(data=df, x='age_cat', y='Time_Tx', hue='Transplant_Y_N');"
   ]
  },
  {
   "cell_type": "code",
   "execution_count": 336,
   "id": "beee2889",
   "metadata": {},
   "outputs": [
    {
     "data": {
      "text/plain": [
       "age_at_list_registration\n",
       "97                             1\n",
       "95                             1\n",
       "93                             1\n",
       "91                             2\n",
       "90                             2\n",
       "                            ... \n",
       "55                          1367\n",
       "52                          1372\n",
       "53                          1384\n",
       "57                          1404\n",
       "56                          1445\n",
       "Length: 95, dtype: int64"
      ]
     },
     "execution_count": 336,
     "metadata": {},
     "output_type": "execute_result"
    }
   ],
   "source": [
    "df[['age_at_list_registration']].value_counts().sort_values()"
   ]
  },
  {
   "cell_type": "code",
   "execution_count": 337,
   "id": "23c6eef4",
   "metadata": {},
   "outputs": [],
   "source": [
    "remove_list.append('age_at_list_registration')"
   ]
  },
  {
   "cell_type": "code",
   "execution_count": 338,
   "id": "84727322",
   "metadata": {},
   "outputs": [
    {
     "data": {
      "text/plain": [
       "Zero           34205\n",
       "Entre_0_50      7311\n",
       "Maior_80        3895\n",
       "Entre_50_80     2742\n",
       "Name: cPRA_cat, dtype: int64"
      ]
     },
     "execution_count": 338,
     "metadata": {},
     "output_type": "execute_result"
    }
   ],
   "source": [
    "df['cPRA_cat'].value_counts()"
   ]
  },
  {
   "cell_type": "code",
   "execution_count": 339,
   "id": "81c5ed05",
   "metadata": {},
   "outputs": [],
   "source": [
    "df['cPRA_cat'].replace(to_replace= 'Entre_0_50' , value= 'ZeroTo50', inplace=True)\n",
    "df['cPRA_cat'].replace(to_replace= 'Entre_50_80' , value= 'From50To80', inplace=True)\n",
    "df['cPRA_cat'].replace(to_replace= 'Maior_80' , value= 'Over80', inplace=True)"
   ]
  },
  {
   "cell_type": "code",
   "execution_count": 340,
   "id": "74b5fc70",
   "metadata": {},
   "outputs": [
    {
     "data": {
      "image/png": "[encoded data removed]",
      "text/plain": [
       "<Figure size 640x480 with 1 Axes>"
      ]
     },
     "metadata": {},
     "output_type": "display_data"
    }
   ],
   "source": [
    "sns.barplot(data=df, x='cPRA_cat', y='Time_Tx', hue='Transplant_Y_N');"
   ]
  },
  {
   "cell_type": "code",
   "execution_count": 341,
   "id": "dbc6f626",
   "metadata": {},
   "outputs": [
    {
     "data": {
      "text/plain": [
       "66       50\n",
       "59       51\n",
       "48       54\n",
       "46       64\n",
       "72       67\n",
       "      ...  \n",
       "1       384\n",
       "98      411\n",
       "10      433\n",
       "99      633\n",
       "0     34205\n",
       "Name: cPRA, Length: 101, dtype: int64"
      ]
     },
     "execution_count": 341,
     "metadata": {},
     "output_type": "execute_result"
    }
   ],
   "source": [
    "df['cPRA'].value_counts().sort_values() \n",
    "# Panel Reactive Antibody; 패널반응항체검사"
   ]
  },
  {
   "cell_type": "code",
   "execution_count": 342,
   "id": "b7dcea57",
   "metadata": {},
   "outputs": [],
   "source": [
    "remove_list.append('cPRA')"
   ]
  },
  {
   "cell_type": "code",
   "execution_count": 343,
   "id": "e2ff57a0",
   "metadata": {},
   "outputs": [
    {
     "data": {
      "text/plain": [
       "Index(['Id', 'date', 'age_cat', 'time_on_Dialysis', 'sex', 'underline_disease',\n",
       "       'diabetes', 'Blood_type', 'number_transfusion', 'gestation',\n",
       "       'prior_transplant', 'cPRA_cat', 'HLA_A1', 'HLA_A2', 'HLA_B1', 'HLA_B2',\n",
       "       'HLA_DR1', 'HLA_DR2', 'DR_00', 'B_00', 'A_00', 'anti_HBc', 'anti_HCV',\n",
       "       'death', 'Time_death', 'Transplant_Y_N', 'Time_Tx', 'removed_list',\n",
       "       'event'],\n",
       "      dtype='object')"
      ]
     },
     "execution_count": 343,
     "metadata": {},
     "output_type": "execute_result"
    }
   ],
   "source": [
    "df_cleaning = df.drop(columns=remove_list)\n",
    "df_cleaning.columns"
   ]
  },
  {
   "cell_type": "code",
   "execution_count": 344,
   "id": "8b183a94",
   "metadata": {},
   "outputs": [],
   "source": [
    "drop_list=[]"
   ]
  },
  {
   "cell_type": "code",
   "execution_count": 345,
   "id": "65d2e16f",
   "metadata": {},
   "outputs": [],
   "source": [
    "# renaming features\n",
    "renames={'underline_disease':'underlying_diseases',\\\n",
    "         'time_on_Dialysis':'dialysis_duration', 'Blood_type':'blood_group',\\\n",
    "         'number_transfusion':'blood_transfusions', 'Time_Tx':'waiting_time',\\\n",
    "         'Time_death':'time_death', 'Transplant_Y_N':'transplanted_or_not',\\\n",
    "         'sex':'gender', 'removed_list':'on_list_or_not' }\n",
    "df_cleaning.rename(columns=renames, inplace=True)"
   ]
  },
  {
   "cell_type": "code",
   "execution_count": 346,
   "id": "104d8f92",
   "metadata": {},
   "outputs": [
    {
     "data": {
      "text/plain": [
       "0    31398\n",
       "1    14427\n",
       "2     1547\n",
       "3      781\n",
       "Name: blood_transfusions, dtype: int64"
      ]
     },
     "execution_count": 346,
     "metadata": {},
     "output_type": "execute_result"
    }
   ],
   "source": [
    "df_cleaning['blood_transfusions'].value_counts()"
   ]
  },
  {
   "cell_type": "code",
   "execution_count": 347,
   "id": "96c9b04c",
   "metadata": {},
   "outputs": [
    {
     "data": {
      "image/png": "[encoded data removed]",
      "text/plain": [
       "<Figure size 640x480 with 1 Axes>"
      ]
     },
     "metadata": {},
     "output_type": "display_data"
    }
   ],
   "source": [
    "df_cleaning['anti_HCV'].value_counts().plot(kind='pie', autopct='%1.1f%%');"
   ]
  },
  {
   "cell_type": "code",
   "execution_count": 348,
   "id": "0ba43d91",
   "metadata": {},
   "outputs": [
    {
     "data": {
      "image/png": "[encoded data removed]",
      "text/plain": [
       "<Figure size 640x480 with 1 Axes>"
      ]
     },
     "metadata": {},
     "output_type": "display_data"
    }
   ],
   "source": [
    "df_cleaning['anti_HBc'].value_counts().plot(kind='pie', autopct='%1.1f%%');"
   ]
  },
  {
   "cell_type": "code",
   "execution_count": 349,
   "id": "9e4b2f8f",
   "metadata": {},
   "outputs": [],
   "source": [
    "drops=['blood_transfusions', 'anti_HCV', 'anti_HBc']\n",
    "drop_list.extend(drops)"
   ]
  },
  {
   "cell_type": "code",
   "execution_count": 350,
   "id": "6761310c",
   "metadata": {},
   "outputs": [
    {
     "data": {
      "text/plain": [
       "heterozigoto    43171\n",
       "homozigoto       4982\n",
       "Name: A_00, dtype: int64"
      ]
     },
     "execution_count": 350,
     "metadata": {},
     "output_type": "execute_result"
    }
   ],
   "source": [
    "df_cleaning['A_00'].value_counts()"
   ]
  },
  {
   "cell_type": "code",
   "execution_count": 351,
   "id": "3d8f7ec4",
   "metadata": {},
   "outputs": [],
   "source": [
    "df_cleaning.replace(to_replace= 'homozigoto' , value= 'Homozygote', inplace=True)\n",
    "df_cleaning.replace(to_replace= 'heterozigoto' , value= 'Heterozygote', inplace=True)"
   ]
  },
  {
   "cell_type": "code",
   "execution_count": 352,
   "id": "4559cf7f",
   "metadata": {},
   "outputs": [
    {
     "data": {
      "image/png": "[encoded data removed]",
      "text/plain": [
       "<Figure size 640x480 with 1 Axes>"
      ]
     },
     "metadata": {},
     "output_type": "display_data"
    }
   ],
   "source": [
    "df_cleaning['A_00'].value_counts().plot(kind='pie', autopct='%1.1f%%');"
   ]
  },
  {
   "cell_type": "code",
   "execution_count": 353,
   "id": "8964cf17",
   "metadata": {},
   "outputs": [
    {
     "data": {
      "image/png": "[encoded data removed]",
      "text/plain": [
       "<Figure size 640x480 with 1 Axes>"
      ]
     },
     "metadata": {},
     "output_type": "display_data"
    }
   ],
   "source": [
    "df_cleaning['B_00'].value_counts().plot(kind='pie', autopct='%1.1f%%');"
   ]
  },
  {
   "cell_type": "code",
   "execution_count": 354,
   "id": "e420b0c7",
   "metadata": {},
   "outputs": [
    {
     "data": {
      "image/png": "[encoded data removed]",
      "text/plain": [
       "<Figure size 640x480 with 1 Axes>"
      ]
     },
     "metadata": {},
     "output_type": "display_data"
    }
   ],
   "source": [
    "df_cleaning['DR_00'].value_counts().plot(kind='pie', autopct='%1.1f%%');"
   ]
  },
  {
   "cell_type": "code",
   "execution_count": 355,
   "id": "827f2f8f",
   "metadata": {},
   "outputs": [
    {
     "data": {
      "text/plain": [
       "Outras          16626\n",
       "HAS             13165\n",
       "Diabetes         9987\n",
       "GNC              7234\n",
       "Pielonefrite     1141\n",
       "Name: underlying_diseases, dtype: int64"
      ]
     },
     "execution_count": 355,
     "metadata": {},
     "output_type": "execute_result"
    }
   ],
   "source": [
    "df_cleaning['underlying_diseases'].value_counts()"
   ]
  },
  {
   "cell_type": "code",
   "execution_count": 356,
   "id": "3f885ddf",
   "metadata": {},
   "outputs": [],
   "source": [
    "df_cleaning.replace(to_replace= 'Outras' , value= 'others', inplace=True)\n",
    "df_cleaning.replace(to_replace= 'HAS' , value= 'HUS', inplace=True)\n",
    "# HUS: hemolytic uremic syndrome\n",
    "df_cleaning.replace(to_replace= 'Diabetes' , value= 'diabetes', inplace=True)\n",
    "df_cleaning.replace(to_replace= 'GNC' , value= 'GNS', inplace=True)\n",
    "# N-acetylglucosamine-6-sulfatase / glucosamine (N-acetyl)-6-sulfatase\n",
    "df_cleaning.replace(to_replace= 'Pielonefrite' , value= 'PN', inplace=True)\n",
    "# pyelonephritis"
   ]
  },
  {
   "cell_type": "code",
   "execution_count": 357,
   "id": "600904c9",
   "metadata": {},
   "outputs": [
    {
     "data": {
      "text/plain": [
       "array(['others', 'diabetes', 'HUS', 'GNS', 'PN'], dtype=object)"
      ]
     },
     "execution_count": 357,
     "metadata": {},
     "output_type": "execute_result"
    }
   ],
   "source": [
    "df_cleaning['underlying_diseases'].unique()"
   ]
  },
  {
   "cell_type": "code",
   "execution_count": 358,
   "id": "6bf5894c",
   "metadata": {},
   "outputs": [
    {
     "data": {
      "text/plain": [
       "1    38166\n",
       "0     9987\n",
       "Name: diabetes, dtype: int64"
      ]
     },
     "execution_count": 358,
     "metadata": {},
     "output_type": "execute_result"
    }
   ],
   "source": [
    "df_cleaning['diabetes'].value_counts()"
   ]
  },
  {
   "cell_type": "code",
   "execution_count": 359,
   "id": "56a38597",
   "metadata": {},
   "outputs": [],
   "source": [
    "drop_list.append('diabetes')"
   ]
  },
  {
   "cell_type": "code",
   "execution_count": 360,
   "id": "d9b16a01",
   "metadata": {},
   "outputs": [
    {
     "data": {
      "text/plain": [
       "2016-06-20    94\n",
       "2012-12-03    82\n",
       "2007-01-09    73\n",
       "2010-10-06    73\n",
       "2017-06-12    70\n",
       "              ..\n",
       "2013-06-26     1\n",
       "2005-04-22     1\n",
       "2012-02-20     1\n",
       "2005-08-11     1\n",
       "2002-01-13     1\n",
       "Name: date, Length: 4108, dtype: int64"
      ]
     },
     "execution_count": 360,
     "metadata": {},
     "output_type": "execute_result"
    }
   ],
   "source": [
    "df_cleaning['date'].value_counts()"
   ]
  },
  {
   "cell_type": "code",
   "execution_count": 361,
   "id": "3da4edf8",
   "metadata": {},
   "outputs": [],
   "source": [
    "drop_list.append('date')"
   ]
  },
  {
   "cell_type": "code",
   "execution_count": 362,
   "id": "f3198c4f",
   "metadata": {},
   "outputs": [
    {
     "data": {
      "text/plain": [
       "No     36592\n",
       "Yes    11561\n",
       "Name: death, dtype: int64"
      ]
     },
     "execution_count": 362,
     "metadata": {},
     "output_type": "execute_result"
    }
   ],
   "source": [
    "df_cleaning['death'].value_counts()"
   ]
  },
  {
   "cell_type": "code",
   "execution_count": 363,
   "id": "745fc042",
   "metadata": {},
   "outputs": [
    {
     "data": {
      "text/plain": [
       "18     666\n",
       "14     660\n",
       "8      632\n",
       "27     614\n",
       "10     602\n",
       "      ... \n",
       "198     43\n",
       "183     43\n",
       "172     38\n",
       "226     34\n",
       "201     22\n",
       "Name: time_death, Length: 227, dtype: int64"
      ]
     },
     "execution_count": 363,
     "metadata": {},
     "output_type": "execute_result"
    }
   ],
   "source": [
    "df_cleaning['time_death'].value_counts()"
   ]
  },
  {
   "cell_type": "code",
   "execution_count": 364,
   "id": "6a7de430",
   "metadata": {},
   "outputs": [
    {
     "data": {
      "text/plain": [
       "No     32858\n",
       "Yes    15295\n",
       "Name: on_list_or_not, dtype: int64"
      ]
     },
     "execution_count": 364,
     "metadata": {},
     "output_type": "execute_result"
    }
   ],
   "source": [
    "df_cleaning['on_list_or_not'].value_counts()"
   ]
  },
  {
   "cell_type": "code",
   "execution_count": 365,
   "id": "d96749d8",
   "metadata": {},
   "outputs": [
    {
     "data": {
      "text/plain": [
       "3    14356\n",
       "1    13732\n",
       "0    10933\n",
       "2     9132\n",
       "Name: event, dtype: int64"
      ]
     },
     "execution_count": 365,
     "metadata": {},
     "output_type": "execute_result"
    }
   ],
   "source": [
    "df_cleaning['event'].value_counts()"
   ]
  },
  {
   "cell_type": "code",
   "execution_count": 366,
   "id": "b74e639a",
   "metadata": {},
   "outputs": [],
   "source": [
    "drops2=['time_death', 'on_list_or_not', 'event']\n",
    "drop_list.extend(drops2)"
   ]
  },
  {
   "cell_type": "code",
   "execution_count": 367,
   "id": "99687af4",
   "metadata": {},
   "outputs": [
    {
     "data": {
      "text/plain": [
       "['blood_transfusions',\n",
       " 'anti_HCV',\n",
       " 'anti_HBc',\n",
       " 'diabetes',\n",
       " 'date',\n",
       " 'time_death',\n",
       " 'on_list_or_not',\n",
       " 'event']"
      ]
     },
     "execution_count": 367,
     "metadata": {},
     "output_type": "execute_result"
    }
   ],
   "source": [
    "drop_list"
   ]
  },
  {
   "cell_type": "code",
   "execution_count": 368,
   "id": "2488fa0d",
   "metadata": {},
   "outputs": [
    {
     "name": "stdout",
     "output_type": "stream",
     "text": [
      "<class 'pandas.core.frame.DataFrame'>\n",
      "RangeIndex: 48153 entries, 0 to 48152\n",
      "Data columns (total 21 columns):\n",
      " #   Column               Non-Null Count  Dtype  \n",
      "---  ------               --------------  -----  \n",
      " 0   Id                   48153 non-null  int64  \n",
      " 1   age_cat              48153 non-null  object \n",
      " 2   dialysis_duration    48153 non-null  float64\n",
      " 3   gender               48153 non-null  object \n",
      " 4   underlying_diseases  48153 non-null  object \n",
      " 5   blood_group          48153 non-null  object \n",
      " 6   gestation            48153 non-null  object \n",
      " 7   prior_transplant     48153 non-null  object \n",
      " 8   cPRA_cat             48153 non-null  object \n",
      " 9   HLA_A1               48153 non-null  int64  \n",
      " 10  HLA_A2               48153 non-null  int64  \n",
      " 11  HLA_B1               48153 non-null  int64  \n",
      " 12  HLA_B2               48153 non-null  int64  \n",
      " 13  HLA_DR1              48153 non-null  int64  \n",
      " 14  HLA_DR2              48153 non-null  int64  \n",
      " 15  DR_00                48153 non-null  object \n",
      " 16  B_00                 48153 non-null  object \n",
      " 17  A_00                 48153 non-null  object \n",
      " 18  death                48153 non-null  object \n",
      " 19  transplanted_or_not  48153 non-null  object \n",
      " 20  waiting_time         48153 non-null  float64\n",
      "dtypes: float64(2), int64(7), object(12)\n",
      "memory usage: 7.7+ MB\n"
     ]
    }
   ],
   "source": [
    "df_cleaned=df_cleaning.drop(columns=drop_list)\n",
    "df_cleaned.info()"
   ]
  },
  {
   "cell_type": "code",
   "execution_count": 369,
   "id": "850a8406",
   "metadata": {},
   "outputs": [
    {
     "data": {
      "text/html": [
       "<div>\n",
       "<style scoped>\n",
       "    .dataframe tbody tr th:only-of-type {\n",
       "        vertical-align: middle;\n",
       "    }\n",
       "\n",
       "    .dataframe tbody tr th {\n",
       "        vertical-align: top;\n",
       "    }\n",
       "\n",
       "    .dataframe thead th {\n",
       "        text-align: right;\n",
       "    }\n",
       "</style>\n",
       "<table border=\"1\" class=\"dataframe\">\n",
       "  <thead>\n",
       "    <tr style=\"text-align: right;\">\n",
       "      <th></th>\n",
       "      <th>Id</th>\n",
       "      <th>age_cat</th>\n",
       "      <th>dialysis_duration</th>\n",
       "      <th>gender</th>\n",
       "      <th>underlying_diseases</th>\n",
       "      <th>blood_group</th>\n",
       "      <th>gestation</th>\n",
       "      <th>prior_transplant</th>\n",
       "      <th>cPRA_cat</th>\n",
       "      <th>HLA_A1</th>\n",
       "      <th>...</th>\n",
       "      <th>HLA_B1</th>\n",
       "      <th>HLA_B2</th>\n",
       "      <th>HLA_DR1</th>\n",
       "      <th>HLA_DR2</th>\n",
       "      <th>DR_00</th>\n",
       "      <th>B_00</th>\n",
       "      <th>A_00</th>\n",
       "      <th>death</th>\n",
       "      <th>transplanted_or_not</th>\n",
       "      <th>waiting_time</th>\n",
       "    </tr>\n",
       "  </thead>\n",
       "  <tbody>\n",
       "    <tr>\n",
       "      <th>0</th>\n",
       "      <td>4</td>\n",
       "      <td>Over60</td>\n",
       "      <td>1.0</td>\n",
       "      <td>M</td>\n",
       "      <td>others</td>\n",
       "      <td>A</td>\n",
       "      <td>No</td>\n",
       "      <td>No</td>\n",
       "      <td>Zero</td>\n",
       "      <td>1</td>\n",
       "      <td>...</td>\n",
       "      <td>44</td>\n",
       "      <td>51</td>\n",
       "      <td>3</td>\n",
       "      <td>7</td>\n",
       "      <td>Heterozygote</td>\n",
       "      <td>Heterozygote</td>\n",
       "      <td>Heterozygote</td>\n",
       "      <td>No</td>\n",
       "      <td>No</td>\n",
       "      <td>13.07</td>\n",
       "    </tr>\n",
       "    <tr>\n",
       "      <th>1</th>\n",
       "      <td>5</td>\n",
       "      <td>From18to60</td>\n",
       "      <td>4.0</td>\n",
       "      <td>M</td>\n",
       "      <td>diabetes</td>\n",
       "      <td>A</td>\n",
       "      <td>No</td>\n",
       "      <td>No</td>\n",
       "      <td>Zero</td>\n",
       "      <td>1</td>\n",
       "      <td>...</td>\n",
       "      <td>18</td>\n",
       "      <td>35</td>\n",
       "      <td>11</td>\n",
       "      <td>0</td>\n",
       "      <td>Homozygote</td>\n",
       "      <td>Heterozygote</td>\n",
       "      <td>Heterozygote</td>\n",
       "      <td>Yes</td>\n",
       "      <td>No</td>\n",
       "      <td>68.87</td>\n",
       "    </tr>\n",
       "    <tr>\n",
       "      <th>2</th>\n",
       "      <td>6</td>\n",
       "      <td>From18to60</td>\n",
       "      <td>2.0</td>\n",
       "      <td>M</td>\n",
       "      <td>HUS</td>\n",
       "      <td>O</td>\n",
       "      <td>No</td>\n",
       "      <td>No</td>\n",
       "      <td>From50To80</td>\n",
       "      <td>24</td>\n",
       "      <td>...</td>\n",
       "      <td>14</td>\n",
       "      <td>18</td>\n",
       "      <td>1</td>\n",
       "      <td>15</td>\n",
       "      <td>Heterozygote</td>\n",
       "      <td>Heterozygote</td>\n",
       "      <td>Heterozygote</td>\n",
       "      <td>No</td>\n",
       "      <td>No</td>\n",
       "      <td>12.17</td>\n",
       "    </tr>\n",
       "    <tr>\n",
       "      <th>3</th>\n",
       "      <td>7</td>\n",
       "      <td>From18to60</td>\n",
       "      <td>17.0</td>\n",
       "      <td>M</td>\n",
       "      <td>diabetes</td>\n",
       "      <td>O</td>\n",
       "      <td>No</td>\n",
       "      <td>Yes</td>\n",
       "      <td>ZeroTo50</td>\n",
       "      <td>24</td>\n",
       "      <td>...</td>\n",
       "      <td>14</td>\n",
       "      <td>18</td>\n",
       "      <td>1</td>\n",
       "      <td>15</td>\n",
       "      <td>Heterozygote</td>\n",
       "      <td>Heterozygote</td>\n",
       "      <td>Heterozygote</td>\n",
       "      <td>No</td>\n",
       "      <td>No</td>\n",
       "      <td>12.17</td>\n",
       "    </tr>\n",
       "    <tr>\n",
       "      <th>4</th>\n",
       "      <td>8</td>\n",
       "      <td>Over60</td>\n",
       "      <td>68.0</td>\n",
       "      <td>M</td>\n",
       "      <td>HUS</td>\n",
       "      <td>A</td>\n",
       "      <td>No</td>\n",
       "      <td>No</td>\n",
       "      <td>Zero</td>\n",
       "      <td>24</td>\n",
       "      <td>...</td>\n",
       "      <td>14</td>\n",
       "      <td>27</td>\n",
       "      <td>13</td>\n",
       "      <td>15</td>\n",
       "      <td>Heterozygote</td>\n",
       "      <td>Heterozygote</td>\n",
       "      <td>Heterozygote</td>\n",
       "      <td>Yes</td>\n",
       "      <td>No</td>\n",
       "      <td>6.47</td>\n",
       "    </tr>\n",
       "  </tbody>\n",
       "</table>\n",
       "<p>5 rows × 21 columns</p>\n",
       "</div>"
      ],
      "text/plain": [
       "   Id     age_cat  dialysis_duration gender underlying_diseases blood_group  \\\n",
       "0   4      Over60                1.0      M              others           A   \n",
       "1   5  From18to60                4.0      M            diabetes           A   \n",
       "2   6  From18to60                2.0      M                 HUS           O   \n",
       "3   7  From18to60               17.0      M            diabetes           O   \n",
       "4   8      Over60               68.0      M                 HUS           A   \n",
       "\n",
       "  gestation prior_transplant    cPRA_cat  HLA_A1  ...  HLA_B1  HLA_B2  \\\n",
       "0        No               No        Zero       1  ...      44      51   \n",
       "1        No               No        Zero       1  ...      18      35   \n",
       "2        No               No  From50To80      24  ...      14      18   \n",
       "3        No              Yes    ZeroTo50      24  ...      14      18   \n",
       "4        No               No        Zero      24  ...      14      27   \n",
       "\n",
       "   HLA_DR1  HLA_DR2         DR_00          B_00          A_00 death  \\\n",
       "0        3        7  Heterozygote  Heterozygote  Heterozygote    No   \n",
       "1       11        0    Homozygote  Heterozygote  Heterozygote   Yes   \n",
       "2        1       15  Heterozygote  Heterozygote  Heterozygote    No   \n",
       "3        1       15  Heterozygote  Heterozygote  Heterozygote    No   \n",
       "4       13       15  Heterozygote  Heterozygote  Heterozygote   Yes   \n",
       "\n",
       "  transplanted_or_not waiting_time  \n",
       "0                  No        13.07  \n",
       "1                  No        68.87  \n",
       "2                  No        12.17  \n",
       "3                  No        12.17  \n",
       "4                  No         6.47  \n",
       "\n",
       "[5 rows x 21 columns]"
      ]
     },
     "execution_count": 369,
     "metadata": {},
     "output_type": "execute_result"
    }
   ],
   "source": [
    "df_cleaned.head()"
   ]
  }
 ],
 "metadata": {
  "kernelspec": {
   "display_name": "Python 3 (ipykernel)",
   "language": "python",
   "name": "python3"
  },
  "language_info": {
   "codemirror_mode": {
    "name": "ipython",
    "version": 3
   },
   "file_extension": ".py",
   "mimetype": "text/x-python",
   "name": "python",
   "nbconvert_exporter": "python",
   "pygments_lexer": "ipython3",
   "version": "3.10.9"
  }
 },
 "nbformat": 4,
 "nbformat_minor": 5
}
